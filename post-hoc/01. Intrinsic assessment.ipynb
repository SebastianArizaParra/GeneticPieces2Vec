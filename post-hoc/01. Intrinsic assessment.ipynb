{
 "cells": [
  {
   "cell_type": "markdown",
   "id": "573f5f94-59c8-42a7-b1e6-20601b5681a9",
   "metadata": {},
   "source": [
    "# Intrinsic assessment"
   ]
  },
  {
   "cell_type": "code",
   "execution_count": null,
   "id": "b9cb37ee-0c8f-46a2-8926-7a1b0e67fe0c",
   "metadata": {},
   "outputs": [],
   "source": [
    "#Numeric\n",
    "import numpy as np\n",
    "import pandas as pd\n",
    "#DL\n",
    "import keras\n",
    "import keras_tuner as kt\n",
    "import tensorflow as tf\n",
    "#Sytem\n",
    "from pymongo import MongoClient\n",
    "import sys\n",
    "#Tokenizers\n",
    "import sentencepiece as spm\n",
    "#Graphic\n",
    "import matplotlib.pyplot as plt\n",
    "#Custom\n",
    "sys.path.append('/home/jmalagont/Documentos/GWord2Vec/algorithms/utils/')\n",
    "import DataGenerator as dg"
   ]
  },
  {
   "cell_type": "markdown",
   "id": "42c2ff64",
   "metadata": {},
   "source": [
    "## 📁 Define Paths and Database Parameters\n",
    "\n",
    "We define variables for:\n",
    "\n",
    "- MongoDB database and collection names.\n",
    "- BPE tokenizer model.\n",
    "- A csv with the required train, tune, test partition IDs.\n",
    "- Paths the model output files."
   ]
  },
  {
   "cell_type": "code",
   "execution_count": null,
   "id": "93d8ef44-9512-4069-a206-419a98d19f78",
   "metadata": {
    "execution": {
     "iopub.execute_input": "2025-05-09T16:14:32.345484Z",
     "iopub.status.busy": "2025-05-09T16:14:32.345097Z",
     "iopub.status.idle": "2025-05-09T16:14:32.347744Z",
     "shell.execute_reply": "2025-05-09T16:14:32.347370Z",
     "shell.execute_reply.started": "2025-05-09T16:14:32.345468Z"
    }
   },
   "outputs": [],
   "source": [
    "db_name = \"------\"\n",
    "collection_name = \"------\"\n",
    "tokenizer_model_path = \"------\"\n",
    "partitions_path = \"------\"\n",
    "model_path = \"------\""
   ]
  },
  {
   "cell_type": "markdown",
   "id": "b2d0bb68-6522-4ee3-881c-ec209307d5f7",
   "metadata": {},
   "source": [
    "## Load organisms ID"
   ]
  },
  {
   "cell_type": "code",
   "execution_count": null,
   "id": "d224d5b7-4462-4b11-a3ed-913a570c00b7",
   "metadata": {
    "execution": {
     "iopub.execute_input": "2025-05-09T16:11:44.849555Z",
     "iopub.status.busy": "2025-05-09T16:11:44.849186Z",
     "iopub.status.idle": "2025-05-09T16:11:44.857798Z",
     "shell.execute_reply": "2025-05-09T16:11:44.857452Z",
     "shell.execute_reply.started": "2025-05-09T16:11:44.849540Z"
    }
   },
   "outputs": [],
   "source": [
    "partitions = pd.read_csv(partitions_path)\n",
    "training_IDs = list(partitions.loc[partitions['partition']=='Train', 'ID'])\n",
    "tuning_IDs = list(partitions.loc[partitions['partition']=='Tune', 'ID'])\n",
    "testing_IDs = list(partitions.loc[partitions['partition']=='Test', 'ID'])\n",
    "\n",
    "print(f' Training: {len(training_IDs)} \\n Tune: {len(tuning_IDs)} \\n Test: {len(testing_IDs)}')"
   ]
  },
  {
   "cell_type": "markdown",
   "id": "650af9f7-5263-465d-9108-14fa6a7051ba",
   "metadata": {},
   "source": [
    "# Model pieces"
   ]
  },
  {
   "cell_type": "markdown",
   "id": "cfbb4844",
   "metadata": {},
   "source": [
    "This custom Keras layer computes the dot product between two embedding tensors using Einstein summation.\n",
    "It is used to calculate similarity between target and context embeddings."
   ]
  },
  {
   "cell_type": "code",
   "execution_count": null,
   "id": "f77820fb-bb37-4431-af3e-fd14c3d51eb4",
   "metadata": {
    "execution": {
     "iopub.execute_input": "2025-05-09T16:22:56.842494Z",
     "iopub.status.busy": "2025-05-09T16:22:56.842268Z",
     "iopub.status.idle": "2025-05-09T16:22:56.845192Z",
     "shell.execute_reply": "2025-05-09T16:22:56.844797Z",
     "shell.execute_reply.started": "2025-05-09T16:22:56.842479Z"
    }
   },
   "outputs": [],
   "source": [
    "class dotlayer(keras.layers.Layer):\n",
    "    def __init__(self , **kwargs):\n",
    "        super(dotlayer, self).__init__(**kwargs)\n",
    "\n",
    "    def call(self, x1, x2):\n",
    "        return keras.ops.einsum('bfc,bec->be', x1, x2)"
   ]
  },
  {
   "cell_type": "markdown",
   "id": "4392afed-ab22-4152-bce3-de0e38990a71",
   "metadata": {},
   "source": [
    "## Load GeneticPieces2Vec Model"
   ]
  },
  {
   "cell_type": "code",
   "execution_count": null,
   "id": "f8d1a87f-ef11-43dd-9cfe-7baf337593a1",
   "metadata": {
    "execution": {
     "iopub.execute_input": "2025-05-09T16:34:08.488303Z",
     "iopub.status.busy": "2025-05-09T16:34:08.488046Z",
     "iopub.status.idle": "2025-05-09T16:34:08.716865Z",
     "shell.execute_reply": "2025-05-09T16:34:08.716465Z",
     "shell.execute_reply.started": "2025-05-09T16:34:08.488289Z"
    }
   },
   "outputs": [],
   "source": [
    "keras.backend.clear_session()\n",
    "custom_objects = {'dotlayer': dotlayer}\n",
    "model = keras.models.load_model(f'{model_path}/W2Vstructure.keras', custom_objects=custom_objects)\n",
    "model.summary()"
   ]
  },
  {
   "cell_type": "markdown",
   "id": "0e6d73bb-5949-40b8-b503-0d6d19641a55",
   "metadata": {},
   "source": [
    "## Model evaluation"
   ]
  },
  {
   "cell_type": "markdown",
   "id": "644611da",
   "metadata": {},
   "source": [
    "The following function manually computes the data needed to plot a Receiver Operating Characteristic (ROC) curve, which is useful for evaluating the performance of the model"
   ]
  },
  {
   "cell_type": "code",
   "execution_count": null,
   "id": "4cb9c866-c8b7-4a36-8584-5d84f6f71238",
   "metadata": {
    "execution": {
     "iopub.execute_input": "2025-05-09T20:10:45.669799Z",
     "iopub.status.busy": "2025-05-09T20:10:45.669488Z",
     "iopub.status.idle": "2025-05-09T20:10:45.673115Z",
     "shell.execute_reply": "2025-05-09T20:10:45.672729Z",
     "shell.execute_reply.started": "2025-05-09T20:10:45.669784Z"
    }
   },
   "outputs": [],
   "source": [
    "def ROC_curve(y_true, y_pred, thresholds):\n",
    "    S = []\n",
    "    E = []\n",
    "    for threshold in thresholds:\n",
    "        pred = 1*(y_pred>=threshold)\n",
    "        vp = np.sum((y_true==1) * (pred==1))\n",
    "        vn = np.sum((y_true==0) * (pred==0))\n",
    "        fp = np.sum((y_true==0) * (pred==1))\n",
    "        fn = np.sum((y_true==1) * (pred==0))\n",
    "    \n",
    "        s = vp/(vp+fn+1e-10)\n",
    "        e = vn/(vn+fp+1e-10)\n",
    "        \n",
    "        S.append(s)\n",
    "        E.append(e)\n",
    "    \n",
    "    S = np.array(S)\n",
    "    E = np.array(E)\n",
    "    return(S,E)"
   ]
  },
  {
   "cell_type": "markdown",
   "id": "5b9802b1",
   "metadata": {},
   "source": [
    "This section evaluates the model performance on a test dataset using ROC curves over multiple iterations to estimate average behavior and variability."
   ]
  },
  {
   "cell_type": "code",
   "execution_count": null,
   "id": "42145746-05b6-41a1-be6f-2b88ec32df43",
   "metadata": {
    "execution": {
     "iopub.execute_input": "2025-05-09T20:41:59.302282Z",
     "iopub.status.busy": "2025-05-09T20:41:59.302001Z",
     "iopub.status.idle": "2025-05-09T20:47:47.900279Z",
     "shell.execute_reply": "2025-05-09T20:47:47.899921Z",
     "shell.execute_reply.started": "2025-05-09T20:41:59.302268Z"
    }
   },
   "outputs": [],
   "source": [
    "test_gen = dg.DataGenerator(db_name, collection_name, organism_IDs = testing_IDs, tokenizer_path = tokenizer_model_path,\n",
    "                            shuffle = True, batch_size = 100, context_size = 9, negative_samples = 5, \n",
    "                            vocab_size = 12000, max_pair = 100)\n",
    "n_batches = test_gen.__len__()\n",
    "n_tries = 5\n",
    "thresholds = np.arange(0, 1.001, 0.001)\n",
    "\n",
    "fprs = []\n",
    "tprs = []\n",
    "for j in range(n_tries):\n",
    "    print(f'Numero de ejecuciones: {j+1}', end='\\r')\n",
    "    \n",
    "    predictions = []\n",
    "    labels = []\n",
    "    for i in range(n_batches):\n",
    "        X_batch,Y_batch = test_gen.__getitem__(i)\n",
    "        prediction_batch = model(X_batch)\n",
    "    \n",
    "        labels = labels + list(Y_batch.flatten())\n",
    "        predictions = predictions + list(prediction_batch.numpy().flatten())\n",
    "        \n",
    "    fpr, tpr = ROC_curve(np.array(labels), np.array(predictions), thresholds)\n",
    "    fprs.append(fpr)\n",
    "    tprs.append(tpr)\n",
    "\n",
    "    test_gen.on_epoch_end()\n",
    "\n",
    "fprs = np.array(fprs)\n",
    "tprs = np.array(tprs)\n",
    "\n",
    "plt.plot(np.mean(1-fprs, axis=0), np.mean(tprs,axis=0), 'b-')\n",
    "plt.plot([0,1], [0,1], color='orange')\n",
    "plt.plot(np.mean(1-fprs, axis=0)-np.std(1-fprs, axis=0), np.mean(tprs,axis=0)-np.std(tprs,axis=0), 'r--')\n",
    "plt.plot(np.mean(1-fprs, axis=0)+np.std(1-fprs, axis=0), np.mean(tprs,axis=0)+np.std(tprs,axis=0), 'r--')"
   ]
  },
  {
   "cell_type": "code",
   "execution_count": null,
   "id": "9eeec4c2-e9d1-4fa6-8438-1991791e09a5",
   "metadata": {
    "execution": {
     "iopub.execute_input": "2025-05-09T19:54:29.025757Z",
     "iopub.status.busy": "2025-05-09T19:54:29.025390Z",
     "iopub.status.idle": "2025-05-09T19:55:34.072139Z",
     "shell.execute_reply": "2025-05-09T19:55:34.071793Z",
     "shell.execute_reply.started": "2025-05-09T19:54:29.025741Z"
    }
   },
   "outputs": [],
   "source": [
    "model.evaluate(test_gen)"
   ]
  }
 ],
 "metadata": {
  "kernelspec": {
   "display_name": "Python 3 (ipykernel)",
   "language": "python",
   "name": "python3"
  },
  "language_info": {
   "codemirror_mode": {
    "name": "ipython",
    "version": 3
   },
   "file_extension": ".py",
   "mimetype": "text/x-python",
   "name": "python",
   "nbconvert_exporter": "python",
   "pygments_lexer": "ipython3",
   "version": "3.12.9"
  }
 },
 "nbformat": 4,
 "nbformat_minor": 5
}
