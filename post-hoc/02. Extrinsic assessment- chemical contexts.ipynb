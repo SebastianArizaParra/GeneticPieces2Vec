{
 "cells": [
  {
   "cell_type": "markdown",
   "id": "88bba3cf-ff8a-4d13-b6f0-9c68a8f18a22",
   "metadata": {},
   "source": [
    "# Extrinsic assessment- chemical contexts"
   ]
  },
  {
   "cell_type": "code",
   "execution_count": null,
   "id": "148a12a3-4217-44c4-947a-ebf6918beb5a",
   "metadata": {
    "execution": {
     "iopub.execute_input": "2025-05-10T17:34:34.703129Z",
     "iopub.status.busy": "2025-05-10T17:34:34.702727Z",
     "iopub.status.idle": "2025-05-10T17:34:38.495193Z",
     "shell.execute_reply": "2025-05-10T17:34:38.494761Z",
     "shell.execute_reply.started": "2025-05-10T17:34:34.703104Z"
    }
   },
   "outputs": [],
   "source": [
    "#Numeric\n",
    "import numpy as np\n",
    "import pandas as pd\n",
    "from scipy.stats import pearsonr\n",
    "from scipy.spatial.distance import pdist, squareform\n",
    "#DL\n",
    "import keras\n",
    "import keras_tuner as kt\n",
    "import tensorflow as tf\n",
    "#Sytem\n",
    "from pymongo import MongoClient\n",
    "import sys\n",
    "#Tokenizers\n",
    "import sentencepiece as spm\n",
    "#Graphic\n",
    "import matplotlib.pyplot as plt\n",
    "#Custom\n",
    "sys.path.append('/home/jmalagont/Documentos/GWord2Vec/algorithms/utils/')\n",
    "import DataGenerator as dg\n",
    "#Tokenizers\n",
    "import sentencepiece as spm\n",
    "#bioinformatics\n",
    "from Bio.Seq import Seq\n",
    "from Bio.Data import CodonTable\n",
    "from aaindex import aaindex1, aaindex2"
   ]
  },
  {
   "cell_type": "markdown",
   "id": "bdc1916b",
   "metadata": {},
   "source": [
    "## 📁 Define Paths and Database Parameters\n",
    "\n",
    "We define variables for:\n",
    "\n",
    "- MongoDB database and collection names.\n",
    "- BPE tokenizer model.\n",
    "- A csv with the required train, tune, test partition IDs.\n",
    "- Paths the GeneticPieces2Vec trained model."
   ]
  },
  {
   "cell_type": "code",
   "execution_count": null,
   "id": "ff07c37c-f14f-4948-bf6e-bd208b1e36e1",
   "metadata": {
    "execution": {
     "iopub.execute_input": "2025-05-10T17:34:38.496231Z",
     "iopub.status.busy": "2025-05-10T17:34:38.495802Z",
     "iopub.status.idle": "2025-05-10T17:34:38.498250Z",
     "shell.execute_reply": "2025-05-10T17:34:38.497927Z",
     "shell.execute_reply.started": "2025-05-10T17:34:38.496215Z"
    }
   },
   "outputs": [],
   "source": [
    "db_name = \"------\"\n",
    "collection_name = \"------\"\n",
    "tokenizer_model_path = \"------\"\n",
    "partitions_path = \"------\"\n",
    "model_path = \"------\""
   ]
  },
  {
   "cell_type": "markdown",
   "id": "e01c8ecd-fd01-4f81-88bb-34edefac0a59",
   "metadata": {},
   "source": [
    "## Load model"
   ]
  },
  {
   "cell_type": "markdown",
   "id": "5306ca90",
   "metadata": {},
   "source": [
    "This custom Keras layer computes the dot product between two embedding tensors using Einstein summation.\n",
    "It is used to calculate similarity between target and context embeddings."
   ]
  },
  {
   "cell_type": "code",
   "execution_count": null,
   "id": "45a0a489-a32d-4319-a1ab-94142d9096a7",
   "metadata": {
    "execution": {
     "iopub.execute_input": "2025-05-10T17:34:38.498702Z",
     "iopub.status.busy": "2025-05-10T17:34:38.498587Z",
     "iopub.status.idle": "2025-05-10T17:34:38.501969Z",
     "shell.execute_reply": "2025-05-10T17:34:38.501624Z",
     "shell.execute_reply.started": "2025-05-10T17:34:38.498690Z"
    }
   },
   "outputs": [],
   "source": [
    "class dotlayer(keras.layers.Layer):\n",
    "    def __init__(self , **kwargs):\n",
    "        super(dotlayer, self).__init__(**kwargs)\n",
    "\n",
    "    def call(self, x1, x2):\n",
    "        return keras.ops.einsum('bfc,bec->be', x1, x2)"
   ]
  },
  {
   "cell_type": "markdown",
   "id": "de1cfc13",
   "metadata": {},
   "source": [
    "## Load GeneticPieces2Vec Model"
   ]
  },
  {
   "cell_type": "code",
   "execution_count": null,
   "id": "f240e9dc-d931-444d-ace6-f49476290521",
   "metadata": {
    "execution": {
     "iopub.execute_input": "2025-05-10T17:34:38.502754Z",
     "iopub.status.busy": "2025-05-10T17:34:38.502627Z",
     "iopub.status.idle": "2025-05-10T17:34:39.832183Z",
     "shell.execute_reply": "2025-05-10T17:34:39.831737Z",
     "shell.execute_reply.started": "2025-05-10T17:34:38.502741Z"
    }
   },
   "outputs": [],
   "source": [
    "keras.backend.clear_session()\n",
    "custom_objects = {'dotlayer': dotlayer}\n",
    "model = keras.models.load_model(f'{model_path}/W2Vstructure.keras', custom_objects=custom_objects)\n",
    "embedding_model = model.layers[2]\n",
    "embedding_model.summary()"
   ]
  },
  {
   "cell_type": "markdown",
   "id": "1c51e7cf-10d7-4619-97b7-ea6c9535847a",
   "metadata": {},
   "source": [
    "## Load codons"
   ]
  },
  {
   "cell_type": "markdown",
   "id": "7234ccce",
   "metadata": {},
   "source": [
    "initialize the codon-to-amino acid translation table and loads a pre-trained tokenizer used to convert sequences into tokenized representations."
   ]
  },
  {
   "cell_type": "code",
   "execution_count": null,
   "id": "d7b6761e-0879-43fe-b98b-9bb4ae3d486c",
   "metadata": {
    "execution": {
     "iopub.execute_input": "2025-05-10T17:34:39.832807Z",
     "iopub.status.busy": "2025-05-10T17:34:39.832645Z",
     "iopub.status.idle": "2025-05-10T17:34:39.840432Z",
     "shell.execute_reply": "2025-05-10T17:34:39.839960Z",
     "shell.execute_reply.started": "2025-05-10T17:34:39.832792Z"
    }
   },
   "outputs": [],
   "source": [
    "standard_table = CodonTable.unambiguous_dna_by_id[1]\n",
    "\n",
    "tokenizer = spm.SentencePieceProcessor()\n",
    "tokenizer.load(f'{tokenizer_model_path}.model')"
   ]
  },
  {
   "cell_type": "markdown",
   "id": "e0721766",
   "metadata": {},
   "source": [
    "### Extract Codon-to-Amino Acid Mapping from Vocabulary\n",
    "\n",
    "Filter the tokenizer vocabulary to identify valid codons (3-letter nucleotide sequences) and translates them into amino acids using the standard genetic code.\n"
   ]
  },
  {
   "cell_type": "code",
   "execution_count": null,
   "id": "d361e3ae-bacf-4dfa-a350-11ce7e6bb0de",
   "metadata": {
    "execution": {
     "iopub.execute_input": "2025-05-10T17:34:42.542611Z",
     "iopub.status.busy": "2025-05-10T17:34:42.542172Z",
     "iopub.status.idle": "2025-05-10T17:34:42.554977Z",
     "shell.execute_reply": "2025-05-10T17:34:42.554486Z",
     "shell.execute_reply.started": "2025-05-10T17:34:42.542592Z"
    }
   },
   "outputs": [],
   "source": [
    "vocabulary = [(tokenizer.id_to_piece(i),i) for i in range(tokenizer.get_piece_size())]\n",
    "codons = [[str(Seq(token).translate(table=standard_table)), ID] for token, ID in vocabulary if (len(token)==3) and not(token[0] in ['▁','<'])]\n",
    "codons = np.array(codons)"
   ]
  },
  {
   "cell_type": "markdown",
   "id": "edb0d953",
   "metadata": {},
   "source": [
    "Here we compute an average embedding vector for each unique amino acid based on the embeddings of its corresponding codons."
   ]
  },
  {
   "cell_type": "code",
   "execution_count": null,
   "id": "4d3f8152-867a-4652-82f4-36c66c51d892",
   "metadata": {
    "execution": {
     "iopub.execute_input": "2025-05-10T17:43:56.272743Z",
     "iopub.status.busy": "2025-05-10T17:43:56.272493Z",
     "iopub.status.idle": "2025-05-10T17:43:56.316903Z",
     "shell.execute_reply": "2025-05-10T17:43:56.316447Z",
     "shell.execute_reply.started": "2025-05-10T17:43:56.272728Z"
    }
   },
   "outputs": [],
   "source": [
    "AA_list = np.unique(codons[:,0])\n",
    "codons_embeddings = np.zeros([len(AA_list), 512])\n",
    "\n",
    "for i, AA in enumerate(AA_list):\n",
    "    AA_index = np.array([codons[codons[:,0]==AA][:,1]]).astype(np.int16)\n",
    "    codons_embeddings[i] = np.mean(embedding_model(AA_index)[0].numpy(),axis=0)\n",
    "    "
   ]
  },
  {
   "cell_type": "markdown",
   "id": "198a4892",
   "metadata": {},
   "source": [
    "## Cosine Similarity Matrix Calculation and Visualization\n",
    "\n",
    "This function computes the cosine similarity matrix for a set of feature vectors, which here correspond to amino acid embeddings.\n",
    "\n",
    "Then the function is used to obtein the GeneticPieces2Vec_distance_matrix, a cosine similarity matrix for amino acid embeddings, also the cosine similarity matrix based on biochemical properties of amino acids. The similarity matrix represents how closely related the amino acids are according to their measured properties. \n",
    "\n",
    "The resulting matrices are then visualized as heatmaps, allowing for easy comparison and interpretation of the similarity relationships between both of them."
   ]
  },
  {
   "cell_type": "code",
   "execution_count": null,
   "id": "17a480b9-587a-4f00-8185-f2e82e8d757e",
   "metadata": {
    "execution": {
     "iopub.execute_input": "2025-05-10T17:43:56.542326Z",
     "iopub.status.busy": "2025-05-10T17:43:56.541969Z",
     "iopub.status.idle": "2025-05-10T17:43:56.545025Z",
     "shell.execute_reply": "2025-05-10T17:43:56.544615Z",
     "shell.execute_reply.started": "2025-05-10T17:43:56.542307Z"
    }
   },
   "outputs": [],
   "source": [
    "def cos_matrix(features):\n",
    "    features_norm = np.array([np.linalg.norm(features, axis=1)])\n",
    "    features_norm = (features_norm.T @ features_norm)\n",
    "    distance_matrix = ((features @ features.T))/(features_norm+1e-10)\n",
    "    return(distance_matrix)"
   ]
  },
  {
   "cell_type": "code",
   "execution_count": null,
   "id": "cd15255a-a0cd-4343-ad99-56af083043a2",
   "metadata": {
    "execution": {
     "iopub.execute_input": "2025-05-10T17:43:56.874219Z",
     "iopub.status.busy": "2025-05-10T17:43:56.873863Z",
     "iopub.status.idle": "2025-05-10T17:43:56.966756Z",
     "shell.execute_reply": "2025-05-10T17:43:56.966387Z",
     "shell.execute_reply.started": "2025-05-10T17:43:56.874199Z"
    }
   },
   "outputs": [],
   "source": [
    "GeneticPieces2Vec_distance_matrix = cos_matrix(codons_embeddings)\n",
    "\n",
    "plt.imshow(GeneticPieces2Vec_distance_matrix)\n",
    "plt.xticks(ticks=np.arange(len(AA_list)), labels=AA_list)\n",
    "plt.yticks(ticks=np.arange(len(AA_list)), labels=AA_list)\n",
    "\n",
    "plt.show()"
   ]
  },
  {
   "cell_type": "code",
   "execution_count": null,
   "id": "fa3133c9-5a3a-4a1c-981b-467cc22b3970",
   "metadata": {
    "execution": {
     "iopub.execute_input": "2025-05-10T17:43:57.417565Z",
     "iopub.status.busy": "2025-05-10T17:43:57.417168Z",
     "iopub.status.idle": "2025-05-10T17:43:57.531055Z",
     "shell.execute_reply": "2025-05-10T17:43:57.530597Z",
     "shell.execute_reply.started": "2025-05-10T17:43:57.417549Z"
    },
    "scrolled": true
   },
   "outputs": [],
   "source": [
    "codes_dict = {code:aaindex1[code]['description'] for code in aaindex1.record_codes()}\n",
    "get_properties = lambda aa: np.array([aaindex1[code]['values'][aa] for code in codes_dict.keys()])\n",
    "\n",
    "propierties = np.array([get_properties(str(aa)) for aa in AA_list])\n",
    "propierties.shape"
   ]
  },
  {
   "cell_type": "code",
   "execution_count": null,
   "id": "6418b24b-57a2-42f2-9980-ae9558cdea47",
   "metadata": {
    "execution": {
     "iopub.execute_input": "2025-05-10T17:43:57.837376Z",
     "iopub.status.busy": "2025-05-10T17:43:57.836895Z",
     "iopub.status.idle": "2025-05-10T17:43:57.921417Z",
     "shell.execute_reply": "2025-05-10T17:43:57.920944Z",
     "shell.execute_reply.started": "2025-05-10T17:43:57.837354Z"
    }
   },
   "outputs": [],
   "source": [
    "propierties_distance_matrix = cos_matrix(propierties)\n",
    "\n",
    "plt.imshow(propierties_distance_matrix)\n",
    "plt.xticks(ticks=np.arange(len(AA_list)), labels=AA_list)\n",
    "plt.yticks(ticks=np.arange(len(AA_list)), labels=AA_list)\n",
    "\n",
    "plt.show()"
   ]
  },
  {
   "cell_type": "markdown",
   "id": "8438ab72",
   "metadata": {},
   "source": [
    "## Mantel Test Implementation for Comparing Distance Matrices\n",
    "\n",
    "This function calculates the Mantel statistic, which measures the correlation between two distance matrices derived from datasets representing the same objects. \n",
    "\n",
    "### Parameters:\n",
    "- `X` and `Y`: Input data matrices where rows correspond to the same set of objects.\n",
    "- `permutations`: Number of random permutations to perform for significance testing (default is 999).\n",
    "- `tail`: Specifies the type of hypothesis test:\n",
    "  - `'two-sided'`: Tests for any difference in correlation (positive or negative).\n",
    "\n",
    "### Process:\n",
    "1. Computes cosine distance matrices from the input datasets and flattens them into vectors.\n",
    "2. Calculates the observed Mantel statistic as the Pearson correlation between these vectors.\n",
    "3. Performs permutation testing by randomly shuffling rows (and corresponding columns) of one matrix to generate a null distribution of Mantel statistics.\n",
    "4. Calculates the p-value based on the proportion of permuted statistics more extreme than the observed value, according to the chosen tail.\n",
    "\n",
    "### Output:\n",
    "- Returns the Mantel statistic and the associated p-value, providing a measure of how similar the two datasets are in terms of their pairwise distances."
   ]
  },
  {
   "cell_type": "code",
   "execution_count": null,
   "id": "de6e1b05-900f-45d2-8999-5aa7023e739d",
   "metadata": {
    "execution": {
     "iopub.execute_input": "2025-05-10T17:43:58.489213Z",
     "iopub.status.busy": "2025-05-10T17:43:58.488932Z",
     "iopub.status.idle": "2025-05-10T17:43:58.726486Z",
     "shell.execute_reply": "2025-05-10T17:43:58.726076Z",
     "shell.execute_reply.started": "2025-05-10T17:43:58.489195Z"
    }
   },
   "outputs": [],
   "source": [
    "import numpy as np\n",
    "from scipy.stats import pearsonr\n",
    "from scipy.spatial.distance import pdist, squareform\n",
    "\n",
    "def mantel(X, Y, permutations=999, tail='two-sided'):\n",
    "    \"\"\"\n",
    "    Calcula el estadístico de Mantel entre dos matrices de distancia.\n",
    "\n",
    "    Parámetros:\n",
    "    X (array_like): Primera matriz de datos (las filas corresponden a objetos).\n",
    "    Y (array_like): Segunda matriz de datos (las filas corresponden a los mismos objetos que en X).\n",
    "    permutations (int, opcional): Número de permutaciones para la prueba de significancia. Por defecto es 999.\n",
    "    tail (str, opcional): Tipo de prueba ('two-sided', 'upper', 'lower'). Por defecto es 'two-sided'.\n",
    "\n",
    "    Retorna:\n",
    "    tuple: (estadístico de Mantel, valor p)\n",
    "    \"\"\"\n",
    "    # Calcular las matrices de distancia\n",
    "    distX = cos_matrix(X).flatten()\n",
    "    distY = cos_matrix(Y).flatten()\n",
    "\n",
    "    # Calcular el estadístico de Mantel observado (correlación de Pearson entre las distancias)\n",
    "    mantel_stat_obs, _ = pearsonr(distX, distY)\n",
    "\n",
    "    # Realizar las permutaciones\n",
    "    perm_stats = np.empty(permutations)\n",
    "    for i in range(permutations):\n",
    "        # Permutar aleatoriamente las filas (y columnas correspondientes) de una de las matrices\n",
    "        perm_indices = np.random.permutation(X.shape[0])\n",
    "        permX = X[perm_indices, :]\n",
    "        permDistX = cos_matrix(permX).flatten()\n",
    "        perm_stat, _ = pearsonr(permDistX, distY)\n",
    "        perm_stats[i] = perm_stat\n",
    "\n",
    "    # Calcular el valor p\n",
    "    if tail == 'two-sided':\n",
    "        p_value = np.mean(np.abs(perm_stats) >= np.abs(mantel_stat_obs))\n",
    "    elif tail == 'upper':\n",
    "        p_value = np.mean(perm_stats >= mantel_stat_obs)\n",
    "    elif tail == 'lower':\n",
    "        p_value = np.mean(perm_stats <= mantel_stat_obs)\n",
    "    else:\n",
    "        raise ValueError(\"La cola debe ser 'two-sided', 'upper' o 'lower'.\")\n",
    "\n",
    "    return mantel_stat_obs, p_value\n",
    "\n",
    "# Ejemplo de uso:\n",
    "# Generar datos de ejemplo\n",
    "np.random.seed(42)\n",
    "data1 = np.random.rand(10, 3)\n",
    "data2 = np.random.rand(10, 3) + 1.5 * data1\n",
    "\n",
    "# Ejecutar el test de Mantel\n",
    "mantel_statistic, p_value = mantel(codons_embeddings, propierties, permutations=1000)\n",
    "\n",
    "print(f\"Estadístico de Mantel: {mantel_statistic:.4f}\")\n",
    "print(f\"Valor p: {p_value:.4f}\")"
   ]
  }
 ],
 "metadata": {
  "kernelspec": {
   "display_name": "Python 3 (ipykernel)",
   "language": "python",
   "name": "python3"
  },
  "language_info": {
   "codemirror_mode": {
    "name": "ipython",
    "version": 3
   },
   "file_extension": ".py",
   "mimetype": "text/x-python",
   "name": "python",
   "nbconvert_exporter": "python",
   "pygments_lexer": "ipython3",
   "version": "3.12.9"
  }
 },
 "nbformat": 4,
 "nbformat_minor": 5
}
