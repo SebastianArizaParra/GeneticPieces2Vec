{
 "cells": [
  {
   "cell_type": "markdown",
   "id": "88bba3cf-ff8a-4d13-b6f0-9c68a8f18a22",
   "metadata": {},
   "source": [
    "# Extrinsic assessment - population structure"
   ]
  },
  {
   "cell_type": "code",
   "execution_count": null,
   "id": "148a12a3-4217-44c4-947a-ebf6918beb5a",
   "metadata": {
    "execution": {
     "iopub.execute_input": "2025-05-12T19:39:23.567110Z",
     "iopub.status.busy": "2025-05-12T19:39:23.566820Z",
     "iopub.status.idle": "2025-05-12T19:39:23.570169Z",
     "shell.execute_reply": "2025-05-12T19:39:23.569830Z",
     "shell.execute_reply.started": "2025-05-12T19:39:23.567094Z"
    }
   },
   "outputs": [],
   "source": [
    "#Numeric\n",
    "import numpy as np\n",
    "import pandas as pd\n",
    "from scipy.stats import pearsonr\n",
    "from scipy.spatial.distance import pdist, squareform\n",
    "#DL\n",
    "import keras\n",
    "import keras_tuner as kt\n",
    "import tensorflow as tf\n",
    "#Sytem\n",
    "from pymongo import MongoClient\n",
    "import sys\n",
    "#Tokenizers\n",
    "import sentencepiece as spm\n",
    "#Graphic\n",
    "import matplotlib.pyplot as plt\n",
    "#Custom\n",
    "sys.path.append('/home/jmalagont/Documentos/GWord2Vec/algorithms/utils/')\n",
    "import DataGenerator as dg\n",
    "#Tokenizers\n",
    "import sentencepiece as spm\n",
    "#bioinformatics\n",
    "from Bio import SeqIO\n",
    "from Bio.Seq import Seq\n",
    "from Bio.SeqRecord import SeqRecord\n",
    "from Bio.Phylo.TreeConstruction import DistanceCalculator, DistanceTreeConstructor\n",
    "from Bio import AlignIO\n",
    "from Bio import Phylo"
   ]
  },
  {
   "cell_type": "markdown",
   "id": "cab8ed2f",
   "metadata": {},
   "source": [
    "## 📁 Define Paths and Database Parameters\n",
    "\n",
    "We define variables for:\n",
    "\n",
    "- MongoDB database and collection names.\n",
    "- BPE tokenizer model.\n",
    "- A csv with the required train, tune, test partition IDs.\n",
    "- Paths the GeneticPieces2Vec trained model.\n",
    "- Reference genome sequences."
   ]
  },
  {
   "cell_type": "code",
   "execution_count": 1,
   "id": "ff07c37c-f14f-4948-bf6e-bd208b1e36e1",
   "metadata": {
    "execution": {
     "iopub.execute_input": "2025-05-12T19:42:04.211987Z",
     "iopub.status.busy": "2025-05-12T19:42:04.211601Z",
     "iopub.status.idle": "2025-05-12T19:42:04.214142Z",
     "shell.execute_reply": "2025-05-12T19:42:04.213801Z",
     "shell.execute_reply.started": "2025-05-12T19:42:04.211970Z"
    }
   },
   "outputs": [],
   "source": [
    "db_name = \"------\"\n",
    "collection_name = \"------\"\n",
    "tokenizer_model_path = \"------\"\n",
    "partitions_path = \"------\"\n",
    "model_path = \"------\"\n",
    "fasta_path = \"------\""
   ]
  },
  {
   "cell_type": "markdown",
   "id": "e01c8ecd-fd01-4f81-88bb-34edefac0a59",
   "metadata": {},
   "source": [
    "## Load model"
   ]
  },
  {
   "cell_type": "markdown",
   "id": "9d32144c",
   "metadata": {},
   "source": [
    "This custom Keras layer computes the dot product between two embedding tensors using Einstein summation.\n",
    "It is used to calculate similarity between target and context embeddings."
   ]
  },
  {
   "cell_type": "code",
   "execution_count": null,
   "id": "45a0a489-a32d-4319-a1ab-94142d9096a7",
   "metadata": {
    "execution": {
     "iopub.execute_input": "2025-05-12T19:13:59.933808Z",
     "iopub.status.busy": "2025-05-12T19:13:59.933568Z",
     "iopub.status.idle": "2025-05-12T19:13:59.936273Z",
     "shell.execute_reply": "2025-05-12T19:13:59.935889Z",
     "shell.execute_reply.started": "2025-05-12T19:13:59.933794Z"
    }
   },
   "outputs": [],
   "source": [
    "class dotlayer(keras.layers.Layer):\n",
    "    def __init__(self , **kwargs):\n",
    "        super(dotlayer, self).__init__(**kwargs)\n",
    "\n",
    "    def call(self, x1, x2):\n",
    "        return keras.ops.einsum('bfc,bec->be', x1, x2)"
   ]
  },
  {
   "cell_type": "markdown",
   "id": "a6ee6913",
   "metadata": {},
   "source": [
    "## Load GeneticPieces2Vec Model"
   ]
  },
  {
   "cell_type": "code",
   "execution_count": null,
   "id": "f240e9dc-d931-444d-ace6-f49476290521",
   "metadata": {
    "execution": {
     "iopub.execute_input": "2025-05-12T19:14:00.327171Z",
     "iopub.status.busy": "2025-05-12T19:14:00.326949Z",
     "iopub.status.idle": "2025-05-12T19:14:00.581710Z",
     "shell.execute_reply": "2025-05-12T19:14:00.581369Z",
     "shell.execute_reply.started": "2025-05-12T19:14:00.327158Z"
    }
   },
   "outputs": [],
   "source": [
    "keras.backend.clear_session()\n",
    "custom_objects = {'dotlayer': dotlayer}\n",
    "model = keras.models.load_model(f'{model_path}/W2Vstructure.keras', custom_objects=custom_objects)\n",
    "embedding_model = model.layers[2]\n",
    "embedding_model.summary()"
   ]
  },
  {
   "cell_type": "markdown",
   "id": "1c51e7cf-10d7-4619-97b7-ea6c9535847a",
   "metadata": {},
   "source": [
    "## Classical distance matrix"
   ]
  },
  {
   "cell_type": "code",
   "execution_count": null,
   "id": "eedb4953-eddb-4828-b816-7ca1e393a6f9",
   "metadata": {
    "execution": {
     "iopub.execute_input": "2025-05-12T19:14:17.402356Z",
     "iopub.status.busy": "2025-05-12T19:14:17.402070Z",
     "iopub.status.idle": "2025-05-12T19:14:17.405929Z",
     "shell.execute_reply": "2025-05-12T19:14:17.405492Z",
     "shell.execute_reply.started": "2025-05-12T19:14:17.402340Z"
    }
   },
   "outputs": [],
   "source": [
    "client = MongoClient(\"mongodb://localhost:27017/\")\n",
    "\n",
    "db = client[db_name]\n",
    "collection = db[collection_name]"
   ]
  },
  {
   "cell_type": "markdown",
   "id": "77398643",
   "metadata": {},
   "source": [
    "Here we compute the average variant counts per gene across a dataset:\n",
    "\n",
    "1. Retrieves a list of unique gene IDs from the database collection.\n",
    "2. Iterates through each gene ID, querying all associated records.\n",
    "3. For each record, calculates the normalized variant count by dividing the variant count by the length of the first haplotype sequence.\n",
    "4. Computes the mean of these normalized variant counts for each gene.\n",
    "5. Stores these mean values in an array for further analysis.\n",
    "\n",
    "This approach provides a classical metric reflecting the average genetic variation per gene, useful for  comparing genetic diversity across genes.\n",
    "\n",
    "And then, the arrays is sorted and the 10 genes that exhibit the greatest genetic variation are selected"
   ]
  },
  {
   "cell_type": "code",
   "execution_count": null,
   "id": "fdac9170-1a28-47b7-ab24-af4266711431",
   "metadata": {
    "execution": {
     "iopub.execute_input": "2025-05-12T19:17:08.292813Z",
     "iopub.status.busy": "2025-05-12T19:17:08.292500Z",
     "iopub.status.idle": "2025-05-12T19:18:40.827721Z",
     "shell.execute_reply": "2025-05-12T19:18:40.827310Z",
     "shell.execute_reply.started": "2025-05-12T19:17:08.292796Z"
    }
   },
   "outputs": [],
   "source": [
    "genes_IDs = np.array(collection.distinct(\"gene_ID\"))\n",
    "mean_variant_counts = []\n",
    "for i, gene_ID in enumerate(genes_IDs):\n",
    "    print(f'{i+1} of {len(genes_IDs)}', end='\\r')\n",
    "    \n",
    "    query = {'gene_ID': gene_ID}\n",
    "    gene_registers = collection.find(query, {'variant_counts':1, 'haplotype_1':1})\n",
    "    variant_counts = [register['variant_counts']/len(register['haplotype_1']) for register in gene_registers]\n",
    "    mean_variant_counts.append(np.mean(variant_counts))\n",
    "\n",
    "mean_variant_counts = np.array(mean_variant_counts)"
   ]
  },
  {
   "cell_type": "code",
   "execution_count": null,
   "id": "9053af00-c838-46b2-a0c8-28f5a923af28",
   "metadata": {
    "execution": {
     "iopub.execute_input": "2025-05-12T19:19:10.445749Z",
     "iopub.status.busy": "2025-05-12T19:19:10.445511Z",
     "iopub.status.idle": "2025-05-12T19:19:10.448395Z",
     "shell.execute_reply": "2025-05-12T19:19:10.448064Z",
     "shell.execute_reply.started": "2025-05-12T19:19:10.445734Z"
    }
   },
   "outputs": [],
   "source": [
    "index = np.argsort(mean_variant_counts)[::-1]\n",
    "more_variant_genes = genes_IDs[index][:10]\n",
    "print(more_variant_genes)"
   ]
  },
  {
   "cell_type": "markdown",
   "id": "21dcc30c",
   "metadata": {},
   "source": [
    "### Extracting and Saving Haplotype Sequences\n",
    "\n",
    "\n",
    "1. Queries the database for all records of the second most variable gene from the `more_variant_genes` list.\n",
    "2. Iterates over each record to extract the DNA sequences of two haplotypes (`haplotype_1` and `haplotype_2`).\n",
    "3. Converts each haplotype sequence to uppercase and wraps it in a `SeqRecord` object, labeling it with the organism ID.\n",
    "4. Collects all `SeqRecord` objects for both haplotypes into separate lists.\n",
    "5. Writes these collections of haplotype sequences to separate FASTA files (`haplotype_1.fasta` and `haplotype_2.fasta`), enabling downstream sequence analysis or alignment.\n",
    "\n",
    "This process organizes genetic data by haplotype, facilitating further comparative or evolutionary studies.\n"
   ]
  },
  {
   "cell_type": "code",
   "execution_count": null,
   "id": "376c8748-3f81-441d-a830-7bf929778197",
   "metadata": {
    "execution": {
     "iopub.execute_input": "2025-05-12T21:53:19.090178Z",
     "iopub.status.busy": "2025-05-12T21:53:19.089885Z",
     "iopub.status.idle": "2025-05-12T21:53:19.108490Z",
     "shell.execute_reply": "2025-05-12T21:53:19.108130Z",
     "shell.execute_reply.started": "2025-05-12T21:53:19.090162Z"
    }
   },
   "outputs": [],
   "source": [
    "query = {'gene_ID': more_variant_genes[1]}\n",
    "gene_registers = collection.find(query)\n",
    "\n",
    "haplotype_1_seqs, haplotype_2_seqs = [], []\n",
    "\n",
    "for register in gene_registers:\n",
    "    haplotype_1_seq = SeqRecord(Seq(register['haplotype_1'].upper()), id=register['organism_ID'])\n",
    "    haplotype_2_seq = SeqRecord(Seq(register['haplotype_2'].upper()), id=register['organism_ID'])\n",
    "\n",
    "    haplotype_1_seqs.append(haplotype_1_seq)\n",
    "    haplotype_2_seqs.append(haplotype_2_seq)\n",
    "\n",
    "with open(f\"{fasta_path}/haplotype_1.fasta\", \"w\") as file:\n",
    "    SeqIO.write(haplotype_1_seqs, file, \"fasta\")\n",
    "\n",
    "with open(f\"{fasta_path}/haplotype_2.fasta\", \"w\") as file:\n",
    "    SeqIO.write(haplotype_2_seqs, file, \"fasta\")"
   ]
  },
  {
   "cell_type": "markdown",
   "id": "1d36f5ba",
   "metadata": {},
   "source": [
    "This function transforms a given distance matrix, into a symmetric NumPy 2D array."
   ]
  },
  {
   "cell_type": "code",
   "execution_count": null,
   "id": "967010c3-28b7-43a1-9792-97baa74cf63f",
   "metadata": {
    "execution": {
     "iopub.execute_input": "2025-05-12T21:53:19.505710Z",
     "iopub.status.busy": "2025-05-12T21:53:19.505412Z",
     "iopub.status.idle": "2025-05-12T21:53:19.508035Z",
     "shell.execute_reply": "2025-05-12T21:53:19.507722Z",
     "shell.execute_reply.started": "2025-05-12T21:53:19.505685Z"
    }
   },
   "outputs": [],
   "source": [
    "def to_numpy_matrix(distance_matrix):\n",
    "    matrix = np.zeros([len(distance_matrix), len(distance_matrix)])\n",
    "    for i in range(len(distance_matrix)):\n",
    "        for j in range(len(distance_matrix)):\n",
    "            matrix[i, j] = distance_matrix[i][j]\n",
    "            matrix[j, i] = distance_matrix[i][j]\n",
    "    return matrix"
   ]
  },
  {
   "cell_type": "markdown",
   "id": "6ed7a10b",
   "metadata": {},
   "source": [
    "Phylogenetic Distance Calculation and Conversion\n",
    "\n",
    "- Reads haplotype sequence alignments from FASTA files for two haplotypes.\n",
    "- Uses Biopython's `DistanceCalculator` to compute pairwise evolutionary distances between sequences based on their alignments.\n",
    "- Obtains distance matrices representing the dissimilarities between sequences within each haplotype group.\n",
    "- Converts the resulting distance matrices into symmetric NumPy arrays for easier manipulation and downstream analysis.\n",
    "\n",
    "The resulting matrices are then visualized as heatmaps."
   ]
  },
  {
   "cell_type": "code",
   "execution_count": null,
   "id": "8c55c5e9-4d93-4dee-a8ea-6ad493996476",
   "metadata": {
    "execution": {
     "iopub.execute_input": "2025-05-12T21:53:20.055506Z",
     "iopub.status.busy": "2025-05-12T21:53:20.055272Z",
     "iopub.status.idle": "2025-05-12T21:57:47.486106Z",
     "shell.execute_reply": "2025-05-12T21:57:47.485717Z",
     "shell.execute_reply.started": "2025-05-12T21:53:20.055492Z"
    }
   },
   "outputs": [],
   "source": [
    "haplotype_1_seqs = AlignIO.read(f\"{fasta_path}/haplotype_1.fasta\", \"fasta\")\n",
    "haplotype_2_seqs = AlignIO.read(f\"{fasta_path}/haplotype_2.fasta\", \"fasta\")\n",
    "\n",
    "calculador_distancias = DistanceCalculator()\n",
    "teorical_haplotype_1_distances = calculador_distancias.get_distance(haplotype_1_seqs)\n",
    "teorical_haplotype_2_distances = calculador_distancias.get_distance(haplotype_2_seqs)\n",
    "\n",
    "teorical_haplotype_1_distances = to_numpy_matrix(teorical_haplotype_1_distances)\n",
    "teorical_haplotype_2_distances = to_numpy_matrix(teorical_haplotype_2_distances)"
   ]
  },
  {
   "cell_type": "code",
   "execution_count": null,
   "id": "02e0e1b3-c46a-4be9-81fc-d66dfc1ab598",
   "metadata": {
    "execution": {
     "iopub.execute_input": "2025-05-12T21:57:47.487054Z",
     "iopub.status.busy": "2025-05-12T21:57:47.486745Z",
     "iopub.status.idle": "2025-05-12T21:57:47.720979Z",
     "shell.execute_reply": "2025-05-12T21:57:47.720611Z",
     "shell.execute_reply.started": "2025-05-12T21:57:47.487039Z"
    }
   },
   "outputs": [],
   "source": [
    "fig, axes = plt.subplots(1, 2)\n",
    "\n",
    "axes[0].imshow(teorical_haplotype_1_distances)\n",
    "axes[0].axis('off')\n",
    "axes[0].set_title('haplotype 1')\n",
    "\n",
    "axes[1].imshow(teorical_haplotype_2_distances)\n",
    "axes[1].axis('off')\n",
    "axes[1].set_title('haplotype 2')\n",
    "\n",
    "plt.tight_layout()\n",
    "plt.show()"
   ]
  },
  {
   "cell_type": "markdown",
   "id": "6430e499-060b-4daa-aa41-29f4d91ca1ac",
   "metadata": {},
   "source": [
    "## Embedding distance matrix"
   ]
  },
  {
   "cell_type": "markdown",
   "id": "07873363",
   "metadata": {},
   "source": [
    "### Embedding Generation for Haplotype Sequences\n",
    "\n",
    "- Loads the standard codon translation table and the pre-trained tokenizer model.\n",
    "- Loads aligned FASTA sequences for haplotype 1 and haplotype 2.\n",
    "- Initializes empty arrays to store embedding vectors for each organism.\n",
    "- For each organism:\n",
    "  - Converts the DNA sequence into a list of token IDs using the tokenizer.\n",
    "  - Passes the tokenized sequence through a trained embedding model.\n",
    "  - Computes the average embedding vector across the sequence and stores it.\n",
    "- The process is performed separately for both haplotype 1 and haplotype 2 sequences, resulting in two embedding matrices representing the genetic profiles of the organisms.\n"
   ]
  },
  {
   "cell_type": "code",
   "execution_count": null,
   "id": "c7013ac1-29ce-405c-bdf4-3038c3b1a672",
   "metadata": {
    "execution": {
     "iopub.execute_input": "2025-05-12T21:57:47.721568Z",
     "iopub.status.busy": "2025-05-12T21:57:47.721443Z",
     "iopub.status.idle": "2025-05-12T21:57:47.727751Z",
     "shell.execute_reply": "2025-05-12T21:57:47.727388Z",
     "shell.execute_reply.started": "2025-05-12T21:57:47.721554Z"
    }
   },
   "outputs": [],
   "source": [
    "standard_table = CodonTable.unambiguous_dna_by_id[1]\n",
    "\n",
    "tokenizer.load(f'{tokenizer_model_path}.model')"
   ]
  },
  {
   "cell_type": "code",
   "execution_count": null,
   "id": "d168ab2f-8c3e-4709-87f7-ee7bcc04ae26",
   "metadata": {
    "execution": {
     "iopub.execute_input": "2025-05-12T21:57:47.728749Z",
     "iopub.status.busy": "2025-05-12T21:57:47.728521Z",
     "iopub.status.idle": "2025-05-12T21:57:52.801149Z",
     "shell.execute_reply": "2025-05-12T21:57:52.800769Z",
     "shell.execute_reply.started": "2025-05-12T21:57:47.728736Z"
    },
    "scrolled": true
   },
   "outputs": [],
   "source": [
    "haplotype_1_seqs = AlignIO.read(f\"{fasta_path}/haplotype_1.fasta\", \"fasta\")\n",
    "haplotype_2_seqs = AlignIO.read(f\"{fasta_path}/haplotype_2.fasta\", \"fasta\")\n",
    "\n",
    "n_organism = len(haplotype_1_seqs)\n",
    "embeddings_haplotype_1 = np.zeros([n_organism, 512])\n",
    "embeddings_haplotype_2 = np.zeros([n_organism, 512])\n",
    "\n",
    "for i in range(n_organism):\n",
    "    sequence_haplotype_1 = str(haplotype_1_seqs[i].seq)\n",
    "    sequence_haplotype_2 = str(haplotype_2_seqs[i].seq)\n",
    "    \n",
    "    sequence_haplotype_1_tokenized = np.array([tokenizer.encode_as_ids(sequence_haplotype_1)])\n",
    "    sequence_haplotype_1_embedding = np.mean(embedding_model(sequence_haplotype_1_tokenized)[0].numpy(), axis=0)\n",
    "    embeddings_haplotype_1[i] = sequence_haplotype_1_embedding\n",
    "\n",
    "    sequence_haplotype_2_tokenized = np.array([tokenizer.encode_as_ids(sequence_haplotype_2)])\n",
    "    sequence_haplotype_2_embedding = np.mean(embedding_model(sequence_haplotype_2_tokenized)[0].numpy(), axis=0)\n",
    "    embeddings_haplotype_2[i] = sequence_haplotype_2_embedding"
   ]
  },
  {
   "cell_type": "markdown",
   "id": "8a89b002",
   "metadata": {},
   "source": [
    "## Cosine Similarity Matrix Calculation and Visualization\n",
    "\n",
    "This function computes the cosine similarity matrix for a set of feature vectors, which here correspond to our sequence embeddings.\n",
    "\n",
    "Then the function is used to obtein the GeneticPieces2Vec_distance_matrix, a cosine similarity matrix for sequence embeddings. \n",
    "\n",
    "The resulting matrices are then visualized as heatmaps, allowing for easy comparison and interpretation of the similarity relationships between them and the theorical haplotype matrices."
   ]
  },
  {
   "cell_type": "code",
   "execution_count": null,
   "id": "882b2adb-03d2-42a2-8123-8b8d863dfd2c",
   "metadata": {
    "execution": {
     "iopub.execute_input": "2025-05-12T21:57:52.801661Z",
     "iopub.status.busy": "2025-05-12T21:57:52.801532Z",
     "iopub.status.idle": "2025-05-12T21:57:52.804187Z",
     "shell.execute_reply": "2025-05-12T21:57:52.803851Z",
     "shell.execute_reply.started": "2025-05-12T21:57:52.801648Z"
    }
   },
   "outputs": [],
   "source": [
    "def cos_matrix(features):\n",
    "    features_norm = np.array([np.linalg.norm(features, axis=1)])\n",
    "    features_norm = (features_norm.T @ features_norm)\n",
    "    distance_matrix = ((features @ features.T))/(features_norm+1e-10)\n",
    "    return(distance_matrix)"
   ]
  },
  {
   "cell_type": "code",
   "execution_count": null,
   "id": "89f34644-aaed-49ea-ae98-125391dbe590",
   "metadata": {
    "execution": {
     "iopub.execute_input": "2025-05-12T21:57:52.804609Z",
     "iopub.status.busy": "2025-05-12T21:57:52.804485Z",
     "iopub.status.idle": "2025-05-12T21:57:53.063204Z",
     "shell.execute_reply": "2025-05-12T21:57:53.062851Z",
     "shell.execute_reply.started": "2025-05-12T21:57:52.804596Z"
    }
   },
   "outputs": [],
   "source": [
    "haplotype_1_distances = cos_matrix(embeddings_haplotype_1)\n",
    "haplotype_2_distances = cos_matrix(embeddings_haplotype_2)\n",
    "\n",
    "fig, axes = plt.subplots(1, 2)\n",
    "\n",
    "axes[0].imshow(haplotype_1_distances)\n",
    "axes[0].axis('off')\n",
    "axes[0].set_title('haplotype 1')\n",
    "\n",
    "axes[1].imshow(haplotype_2_distances)\n",
    "axes[1].axis('off')\n",
    "axes[1].set_title('haplotype 2')\n",
    "\n",
    "plt.tight_layout()\n",
    "plt.show()"
   ]
  },
  {
   "cell_type": "markdown",
   "id": "660cf93d",
   "metadata": {},
   "source": [
    "### Mantel Test Function\n",
    "\n",
    "Implements the Mantel test to evaluate the correlation between the matrices.\n",
    "\n",
    "- Accepts as input:\n",
    "  - `X`: a feature matrix from which a cosine distance matrix is computed.\n",
    "  - `distY`: a precomputed reference distance matrix.\n",
    "  - `permutations`: number of permutations for significance testing (default: 999).\n",
    "  - `tail`: specifies the type of statistical test (`'two-sided'`, `'upper'`, or `'lower'`).\n",
    "- Flattens both distance matrices to compute their Pearson correlation.\n",
    "- Executes multiple random permutations of `X` to generate a null distribution of correlation values.\n",
    "- Computes the p-value based on how extreme the observed correlation is relative to the null distribution.\n",
    "- Returns the observed Mantel statistic and the associated p-value, quantifying the similarity between the structures represented by `X` and `distY`.\n"
   ]
  },
  {
   "cell_type": "code",
   "execution_count": null,
   "id": "aea55df8-a7cc-4b2a-8057-3446b42e9251",
   "metadata": {
    "execution": {
     "iopub.execute_input": "2025-05-12T21:57:53.063960Z",
     "iopub.status.busy": "2025-05-12T21:57:53.063732Z",
     "iopub.status.idle": "2025-05-12T21:57:53.067673Z",
     "shell.execute_reply": "2025-05-12T21:57:53.067353Z",
     "shell.execute_reply.started": "2025-05-12T21:57:53.063946Z"
    }
   },
   "outputs": [],
   "source": [
    "import numpy as np\n",
    "from scipy.stats import pearsonr\n",
    "from scipy.spatial.distance import pdist, squareform\n",
    "\n",
    "def mantel(X, distY, permutations=999, tail='two-sided'):\n",
    "    # Calcular las matrices de distancia\n",
    "    distX = cos_matrix(X).flatten()\n",
    "    distY = distY.flatten()\n",
    "\n",
    "    # Calcular el estadístico de Mantel observado (correlación de Pearson entre las distancias)\n",
    "    mantel_stat_obs, _ = pearsonr(distX, distY)\n",
    "\n",
    "    # Realizar las permutaciones\n",
    "    perm_stats = np.empty(permutations)\n",
    "    for i in range(permutations):\n",
    "        # Permutar aleatoriamente las filas (y columnas correspondientes) de una de las matrices\n",
    "        perm_indices = np.random.permutation(X.shape[0])\n",
    "        permX = X[perm_indices, :]\n",
    "        permDistX = cos_matrix(permX).flatten()\n",
    "        perm_stat, _ = pearsonr(permDistX, distY)\n",
    "        perm_stats[i] = perm_stat\n",
    "\n",
    "    # Calcular el valor p\n",
    "    if tail == 'two-sided':\n",
    "        p_value = np.mean(np.abs(perm_stats) >= np.abs(mantel_stat_obs))\n",
    "    elif tail == 'upper':\n",
    "        p_value = np.mean(perm_stats >= mantel_stat_obs)\n",
    "    elif tail == 'lower':\n",
    "        p_value = np.mean(perm_stats <= mantel_stat_obs)\n",
    "    else:\n",
    "        raise ValueError(\"La cola debe ser 'two-sided', 'upper' o 'lower'.\")\n",
    "\n",
    "    return mantel_stat_obs, p_value"
   ]
  },
  {
   "cell_type": "markdown",
   "id": "e8e72fdc",
   "metadata": {},
   "source": [
    "The Mantel test is then applied to quantify the correlation between the embedded distances generated by the GeneticPieces2Vec and the theoretical distances derived from multiple sequence alignments.\n",
    "\n",
    "#### Results:\n",
    "\n",
    "  - **Mantel statistic**: A value reflecting the degree of linear correlation between the two distance matrices.\n",
    "  - **p-value**: The probability of observing a statistic as extreme as the one obtained under the null hypothesis of no correlation.\n",
    "\n",
    "These values help assess whether the embeddings produced by the model preserve, to some extent, the evolutionary structure captured by alignment-based distance metrics."
   ]
  },
  {
   "cell_type": "code",
   "execution_count": null,
   "id": "6d68c47d-0fb1-4383-9eca-0a68591bb4a0",
   "metadata": {
    "execution": {
     "iopub.execute_input": "2025-05-12T21:57:53.068138Z",
     "iopub.status.busy": "2025-05-12T21:57:53.068021Z",
     "iopub.status.idle": "2025-05-12T21:58:21.100786Z",
     "shell.execute_reply": "2025-05-12T21:58:21.100325Z",
     "shell.execute_reply.started": "2025-05-12T21:57:53.068126Z"
    }
   },
   "outputs": [],
   "source": [
    "mantel_statistic_h1, p_value_h1 = mantel(embeddings_haplotype_1, teorical_haplotype_1_distances, permutations=1000)\n",
    "mantel_statistic_h2, p_value_h2 = mantel(embeddings_haplotype_2, teorical_haplotype_2_distances, permutations=1000)\n",
    "\n",
    "print(f\"Estadístico de Mantel: {mantel_statistic_h1:.4f}, Valor p: {p_value_h1:.4f}\")\n",
    "print(f\"Estadístico de Mantel: {mantel_statistic_h2:.4f}, Valor p: {p_value_h2:.4f}\")"
   ]
  },
  {
   "cell_type": "code",
   "execution_count": null,
   "id": "07f8d8dd-1a52-4faa-825c-03d0ac130f7e",
   "metadata": {},
   "outputs": [],
   "source": []
  }
 ],
 "metadata": {
  "kernelspec": {
   "display_name": "Python 3",
   "language": "python",
   "name": "python3"
  },
  "language_info": {
   "codemirror_mode": {
    "name": "ipython",
    "version": 3
   },
   "file_extension": ".py",
   "mimetype": "text/x-python",
   "name": "python",
   "nbconvert_exporter": "python",
   "pygments_lexer": "ipython3",
   "version": "3.11.1"
  }
 },
 "nbformat": 4,
 "nbformat_minor": 5
}
