{
 "cells": [
  {
   "cell_type": "code",
   "execution_count": null,
   "id": "2bb2504f-139b-4385-a15d-4aaafd8bb967",
   "metadata": {
    "execution": {
     "iopub.execute_input": "2025-04-27T04:40:40.025767Z",
     "iopub.status.busy": "2025-04-27T04:40:40.025288Z",
     "iopub.status.idle": "2025-04-27T04:40:40.687181Z",
     "shell.execute_reply": "2025-04-27T04:40:40.686791Z",
     "shell.execute_reply.started": "2025-04-27T04:40:40.025732Z"
    }
   },
   "outputs": [],
   "source": [
    "import pandas as pd\n",
    "import numpy as np\n",
    "import os\n",
    "import matplotlib.pyplot as plt\n",
    "import h5py\n",
    "import pymongo"
   ]
  },
  {
   "cell_type": "markdown",
   "id": "4c783c97",
   "metadata": {},
   "source": [
    "## 📁 Define File Paths\n",
    "\n",
    "Here we define the file paths for all the input and output files used in this workflow:\n",
    "\n",
    "- `GFF3`: Gene annotations for the reference genome.\n",
    "- `FASTA`: Reference genome sequences.\n",
    "- `VCF`: Variant call format file containing genomic variants.\n",
    "- `Annotated VCF`: Output path where the annotated VCF will be saved.\n",
    "- `JSON`: Destination path for storing extracted genotype sequences.\n"
   ]
  },
  {
   "cell_type": "code",
   "execution_count": null,
   "id": "2bbf238a-9889-4d43-bf2e-4629d0072aba",
   "metadata": {
    "execution": {
     "iopub.execute_input": "2025-04-27T04:40:41.365051Z",
     "iopub.status.busy": "2025-04-27T04:40:41.364544Z",
     "iopub.status.idle": "2025-04-27T04:40:41.367447Z",
     "shell.execute_reply": "2025-04-27T04:40:41.367057Z",
     "shell.execute_reply.started": "2025-04-27T04:40:41.365024Z"
    }
   },
   "outputs": [],
   "source": [
    "gff_path = \"------\"\n",
    "fasta_path = \"------\"\n",
    "vcf_path = \"------\"\n",
    "annotated_vcf_path = \"------\"\n",
    "db_path = \"------\""
   ]
  },
  {
   "cell_type": "markdown",
   "id": "8b8ed384-2f16-441b-804c-9cd7913d5969",
   "metadata": {},
   "source": [
    "# 1. Annotate VCF"
   ]
  },
  {
   "cell_type": "markdown",
   "id": "d51953d1",
   "metadata": {},
   "source": [
    "We check whether the annotated VCF file already exists. If it doesn't, we execute an NGSEP command using the `os.system()` function. \n",
    "\n",
    "The VCF is annotated with:\n",
    "- the reference genome (`FASTA`),\n",
    "- structural gene annotations (`GFF3`),\n",
    "- and stored in the `Annotated VCF` file.\n",
    "\n",
    "Standard output and errors are redirected to a temporary log file for debugging."
   ]
  },
  {
   "cell_type": "code",
   "execution_count": null,
   "id": "7458b762-6fc0-428a-a8f4-6060ecaf53bb",
   "metadata": {
    "execution": {
     "iopub.execute_input": "2025-01-02T22:20:38.147525Z",
     "iopub.status.busy": "2025-01-02T22:20:38.147305Z",
     "iopub.status.idle": "2025-01-02T22:20:38.149859Z",
     "shell.execute_reply": "2025-01-02T22:20:38.149497Z",
     "shell.execute_reply.started": "2025-01-02T22:20:38.147506Z"
    },
    "scrolled": true
   },
   "outputs": [],
   "source": [
    "if not(os.path.exists(annotated_vcf_path)):\n",
    "    annotate_command = rf'''ngsep -Xmx2048m VCFAnnotate \\\n",
    "                           -i \"{vcf_path}\" \\\n",
    "                           -r \"{fasta_path}\" \\\n",
    "                           -t \"{gff_path}\" \\\n",
    "                           -o \"{annotated_vcf_path}\" > /tmp/output.log 2>&1'''\n",
    "\n",
    "\n",
    "    os.system(annotate_command)"
   ]
  },
  {
   "cell_type": "markdown",
   "id": "e6f04975",
   "metadata": {},
   "source": [
    "## 📄 Load Annotated VCF File\n",
    "\n",
    "The annotated VCF file is loaded into a Pandas DataFrame.\n",
    "\n",
    "<!-- We skip the first 34 lines since they contain metadata and VCF headers not structured as tabular data. -->"
   ]
  },
  {
   "cell_type": "code",
   "execution_count": null,
   "id": "3925ac2a-e9b3-4349-a4ed-2ee1b1f86475",
   "metadata": {
    "execution": {
     "iopub.execute_input": "2025-04-27T04:40:46.672941Z",
     "iopub.status.busy": "2025-04-27T04:40:46.672675Z",
     "iopub.status.idle": "2025-04-27T04:40:51.988483Z",
     "shell.execute_reply": "2025-04-27T04:40:51.988139Z",
     "shell.execute_reply.started": "2025-04-27T04:40:46.672922Z"
    }
   },
   "outputs": [],
   "source": [
    "annotated_vcf = pd.read_csv(annotated_vcf_path, sep=\"\\t\", skiprows=34)\n",
    "annotated_vcf.head(5)"
   ]
  },
  {
   "cell_type": "markdown",
   "id": "c7d196fb",
   "metadata": {},
   "source": [
    "## Visualize Variant Types\n",
    "\n",
    "In this section, we extract and count the types of annotated variants using the `INFO` field in the VCF file.\n",
    "\n",
    "- We extract the annotation code (e.g., `missense_variant`, `intron_variant`) from the `INFO` field.\n",
    "- We use `numpy.unique` to count the occurrences of each type.\n",
    "- Finally, we plot the distribution using a bar chart to visualize the frequency of each variant type.\n"
   ]
  },
  {
   "cell_type": "code",
   "execution_count": null,
   "id": "2da3538c-3c37-429d-8023-5bcf7a0c1bec",
   "metadata": {
    "execution": {
     "iopub.execute_input": "2025-04-27T04:40:56.231384Z",
     "iopub.status.busy": "2025-04-27T04:40:56.231112Z",
     "iopub.status.idle": "2025-04-27T04:40:56.374351Z",
     "shell.execute_reply": "2025-04-27T04:40:56.373907Z",
     "shell.execute_reply.started": "2025-04-27T04:40:56.231364Z"
    }
   },
   "outputs": [],
   "source": [
    "value, counts = np.unique(annotated_vcf['INFO'].map(lambda x : x[3:x.find(';')]), return_counts=True)\n",
    "plt.bar(value, counts)\n",
    "plt.xticks(rotation=90)\n",
    "plt.show()"
   ]
  },
  {
   "cell_type": "markdown",
   "id": "68d8b2ec-9e8d-48f8-a23f-30f7bd7e002d",
   "metadata": {},
   "source": [
    "# 2. Filter relevant variants"
   ]
  },
  {
   "cell_type": "markdown",
   "id": "67b996fa",
   "metadata": {},
   "source": [
    "We now focus on selecting only those variants that are biologically meaningful or likely to impact gene function.\n",
    "T\n",
    "his block filters the annotated VCF to retain only specific variant types that are likely to affect gene expression or protein function.\n",
    "Additionally:\n",
    "- A list of mutated genes is created from the filtered VCF.\n",
    "- We also count the number of unique mutated genes across all individuals."
   ]
  },
  {
   "cell_type": "code",
   "execution_count": null,
   "id": "33449d36-be9f-4d6a-9d1d-c18b2175eb6c",
   "metadata": {
    "execution": {
     "iopub.execute_input": "2025-04-27T04:41:15.731400Z",
     "iopub.status.busy": "2025-04-27T04:41:15.731047Z",
     "iopub.status.idle": "2025-04-27T04:41:16.018790Z",
     "shell.execute_reply": "2025-04-27T04:41:16.018349Z",
     "shell.execute_reply.started": "2025-04-27T04:41:15.731381Z"
    }
   },
   "outputs": [],
   "source": [
    "relevant_variant = [ '3_prime_UTR_variant',\n",
    "                     '5_prime_UTR_variant',\n",
    "                     'exonic_splice_region_variant',\n",
    "                     'frameshift_variant',\n",
    "                     'inframe_deletion',\n",
    "                     'inframe_insertion',\n",
    "                     'intron_variant',\n",
    "                     'missense_variant',\n",
    "                     'splice_acceptor_variant',\n",
    "                     'splice_donor_variant',\n",
    "                     'splice_region_variant'\n",
    "                     'start_lost',\n",
    "                     'stop_gained',\n",
    "                     'stop_lost']\n",
    "\n",
    "\n",
    "filtered_annotated_vcf = annotated_vcf[annotated_vcf['INFO'].map(lambda x : x[3:x.find(';')]).isin(relevant_variant)]\n",
    "filtered_annotated_vcf = filtered_annotated_vcf[filtered_annotated_vcf['INFO'].map(lambda x :  x.split(';')[1][x.split(';')[1].find('.'):] == '.1')]\n",
    "\n",
    "mutated_genes_list = filtered_annotated_vcf['INFO'].map(lambda x : x.split(';')[1].replace('TID=','').replace('.1',''))\n",
    "mutated_genes_list, variants_by_gene = np.unique(mutated_genes_list, return_counts = True)\n",
    "print(f'Number of mutated genes across all the individuals: {len(mutated_genes_list)}')\n",
    "filtered_annotated_vcf"
   ]
  },
  {
   "cell_type": "markdown",
   "id": "16423cb6-6371-41b1-8415-81df25e5b180",
   "metadata": {},
   "source": [
    "# 3. Create Data Base"
   ]
  },
  {
   "cell_type": "markdown",
   "id": "3126881c",
   "metadata": {},
   "source": [
    "We connect to a local MongoDB instance and create (or access) a database named `\"EG-height\"`, with a collection named `\"genotype\"` to store the filtered variant information."
   ]
  },
  {
   "cell_type": "code",
   "execution_count": null,
   "id": "bb90b7aa-75a5-4f5b-b2d9-b1bbdc7423b0",
   "metadata": {
    "execution": {
     "iopub.execute_input": "2025-04-27T05:04:16.392372Z",
     "iopub.status.busy": "2025-04-27T05:04:16.392150Z",
     "iopub.status.idle": "2025-04-27T05:04:16.396452Z",
     "shell.execute_reply": "2025-04-27T05:04:16.395893Z",
     "shell.execute_reply.started": "2025-04-27T05:04:16.392352Z"
    }
   },
   "outputs": [],
   "source": [
    "db_client = pymongo.MongoClient(\"mongodb://localhost:11111/\") \n",
    "db = db_client[\"EG-height\"] \n",
    "collection = db[\"genotype\"] "
   ]
  },
  {
   "cell_type": "markdown",
   "id": "38185ac0-4182-4e6a-a3b6-4aedca8d4165",
   "metadata": {},
   "source": [
    "# 4. Save mutated genes"
   ]
  },
  {
   "cell_type": "markdown",
   "id": "f344b8db",
   "metadata": {},
   "source": [
    "This section processes each mutated gene, reconstructs its two haplotypes for each individual based on the variants present, and stores them in the MongoDB database.\n",
    "\n",
    "\n",
    "We load the reference genome (FASTA) and parse it into a dictionary where each key is a chromosome ID and the value is its sequence.\n",
    "\n",
    "We also load the GFF3 annotation file and filter to keep only rows corresponding to chromosomes (e.g., \"Chr01\", \"Chr02\", etc.)."
   ]
  },
  {
   "cell_type": "code",
   "execution_count": null,
   "id": "8ed7334c-c4fb-414a-9f96-311e41c30936",
   "metadata": {
    "execution": {
     "iopub.execute_input": "2025-04-27T04:59:57.168945Z",
     "iopub.status.busy": "2025-04-27T04:59:57.168681Z",
     "iopub.status.idle": "2025-04-27T05:00:02.024860Z",
     "shell.execute_reply": "2025-04-27T05:00:02.024491Z",
     "shell.execute_reply.started": "2025-04-27T04:59:57.168927Z"
    }
   },
   "outputs": [],
   "source": [
    "# Read fasta and GFF file\n",
    "f = open(fasta_path, \"r\")\n",
    "genome = f.read()\n",
    "f.close()\n",
    "\n",
    "# Read fasta and fasta file\n",
    "chroms = genome.split('>')[1:]\n",
    "chroms = {chrom[:chrom.find('\\n')]: chrom[chrom.find('\\n'):].replace('\\n','') for chrom in chroms}\n",
    "\n",
    "gff = pd.read_csv(gff_path, sep=\"\\t\", skiprows=1, names= ['CHROM', 'MARKER', 'TYPE', 'START', 'END', 'NULL', 'STRAND', 'NULL2', 'INFO'])\n",
    "gff = gff[gff['CHROM'].map(lambda x : \"Chr\" in x)]\n",
    "\n",
    "gff.head(5)"
   ]
  },
  {
   "cell_type": "markdown",
   "id": "5dd8f99f",
   "metadata": {},
   "source": [
    "## 🧬 Extract and Store Genomic Haplotypes\n",
    "\n",
    "For each mutated gene:\n",
    "\n",
    "- We locate its position in the genome using the GFF annotation.\n",
    "- We extract the reference gene sequence from the corresponding chromosome.\n",
    "- For each individual:\n",
    "  - We initialize two haplotypes (starting as the reference gene).\n",
    "  - We iterate over all variants related to that gene and modify the haplotypes based on each individual’s genotype.\n",
    "  - Insertions are padded to maintain consistent length using `-`.\n",
    "  - Lowercase letters to represent mutated bases.\n",
    "\n",
    "If the gene is on the negative strand (`-`), we reverse-complement the haplotypes.\n",
    "\n",
    "Finally:\n",
    "- We compute the number of mutations in each haplotype.\n",
    "- Store the results (haplotypes + mutation count) in MongoDB for future analysis."
   ]
  },
  {
   "cell_type": "code",
   "execution_count": null,
   "id": "95359209-2af3-43b1-b675-ca47f8d14156",
   "metadata": {
    "execution": {
     "iopub.execute_input": "2025-04-27T05:04:19.401384Z",
     "iopub.status.busy": "2025-04-27T05:04:19.400980Z",
     "iopub.status.idle": "2025-04-27T06:52:54.163122Z",
     "shell.execute_reply": "2025-04-27T06:52:54.162694Z",
     "shell.execute_reply.started": "2025-04-27T05:04:19.401365Z"
    }
   },
   "outputs": [],
   "source": [
    "translate_dict = {'A':'T', 'C':'G', 'G':'C', 'T':'A', 'a':'t', 'c':'g', 'g':'c', 't':'a', 'N':'N', '-':'-'}\n",
    "inv_complement  = (lambda seq: ''.join([translate_dict[nucleotide] for nucleotide in list(seq[::-1])]))\n",
    "\n",
    "genes_names_gff = gff['INFO'].map(lambda x: x.split(';')[0].replace('ID=',''))\n",
    "\n",
    "for i, gene_id in enumerate(mutated_genes_list):\n",
    "    gene_info = gff[genes_names_gff == gene_id]\n",
    "    gene_chrom, gene_start, gene_end, gene_strand = gene_info.values[0,0], gene_info.values[0,3]-1, gene_info.values[0,4], gene_info.values[0,6]\n",
    "\n",
    "    gene = chroms[gene_chrom][gene_start:gene_end]\n",
    "\n",
    "    gene_variants = filtered_annotated_vcf[filtered_annotated_vcf['INFO'].map(lambda x : gene_id in x.split(';')[1])]\n",
    "\n",
    "    individuals_ID = gene_variants.columns[9:]\n",
    "    info_columns = list(gene_variants.columns[:9])\n",
    "\n",
    "    gene_documents = []\n",
    "    for individual_ID in individuals_ID:\n",
    "        individual_info = gene_variants[info_columns + [individual_ID]]\n",
    "\n",
    "        haplotype_1 = list(gene)\n",
    "        haplotype_2 = list(gene)\n",
    "\n",
    "        for variant in individual_info.values:\n",
    "            variant_pos = variant[1]\n",
    "            variant_ref = variant[3]\n",
    "            variant_alt = variant[4].split(',')\n",
    "            variant_alt = [variant.lower() for variant in variant_alt]\n",
    "            \n",
    "            allels = [variant_ref] + variant_alt\n",
    "            insertion_size = np.max([len(allel) for allel in allels])\n",
    "            allels = [''.join([allel]+['-']*(insertion_size - len(allel))) for allel in allels]\n",
    "\n",
    "            individual_allels = variant[-1][:3].replace('.','0').split('/')\n",
    "\n",
    "            haplotype_1[(variant_pos-1) - gene_start] = allels[int(individual_allels[0])]\n",
    "            haplotype_2[(variant_pos-1) - gene_start] = allels[int(individual_allels[1])]\n",
    "\n",
    "        haplotype_1 = ''.join(haplotype_1)\n",
    "        haplotype_2 = ''.join(haplotype_2)\n",
    "\n",
    "        if gene_strand == '-':\n",
    "            haplotype_1 = inv_complement(haplotype_1)\n",
    "            haplotype_2 = inv_complement(haplotype_2)\n",
    "        \n",
    "        n_mutations_h1 = sum(1 for char in haplotype_1 if 'a' <= char <= 'z' or char == '-')\n",
    "        n_mutations_h2 = sum(1 for char in haplotype_2 if 'a' <= char <= 'z' or char == '-')\n",
    "\n",
    "        document = {'gene_ID': gene_id,\n",
    "                    'organism_ID': individual_ID,\n",
    "                    'haplotype_1': haplotype_1,\n",
    "                    'haplotype_2': haplotype_2,\n",
    "                    'variant_counts': int(np.max([n_mutations_h1, n_mutations_h2]))}\n",
    "        gene_documents.append(document)\n",
    "\n",
    "    result = collection.insert_many(gene_documents, ordered=False)    \n",
    "    print(f'Analyzed {i+1} gene of {len(mutated_genes_list)}', end='\\r')\n",
    "\n",
    "db_client.close()"
   ]
  }
 ],
 "metadata": {
  "kernelspec": {
   "display_name": "Python 3 (ipykernel)",
   "language": "python",
   "name": "python3"
  },
  "language_info": {
   "codemirror_mode": {
    "name": "ipython",
    "version": 3
   },
   "file_extension": ".py",
   "mimetype": "text/x-python",
   "name": "python",
   "nbconvert_exporter": "python",
   "pygments_lexer": "ipython3",
   "version": "3.12.9"
  }
 },
 "nbformat": 4,
 "nbformat_minor": 5
}
